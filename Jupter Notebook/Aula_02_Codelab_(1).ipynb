{
  "nbformat": 4,
  "nbformat_minor": 0,
  "metadata": {
    "colab": {
      "name": "Aula_02_Codelab (1).ipynb",
      "provenance": [],
      "collapsed_sections": [],
      "include_colab_link": true
    },
    "kernelspec": {
      "name": "python3",
      "display_name": "Python 3"
    },
    "language_info": {
      "name": "python"
    }
  },
  "cells": [
    {
      "cell_type": "markdown",
      "metadata": {
        "id": "view-in-github",
        "colab_type": "text"
      },
      "source": [
        "<a href=\"https://colab.research.google.com/github/wendeel-lima/Exercicios-Python/blob/main/Aula_02_Codelab_(1).ipynb\" target=\"_parent\"><img src=\"https://colab.research.google.com/assets/colab-badge.svg\" alt=\"Open In Colab\"/></a>"
      ]
    },
    {
      "cell_type": "markdown",
      "metadata": {
        "id": "n_igYcmdk6U9"
      },
      "source": [
        "# **Exercícios para treinar:**"
      ]
    },
    {
      "cell_type": "markdown",
      "metadata": {
        "id": "rRyZR6ZAlEHU"
      },
      "source": [
        "1. **Frase na tela** - Implemente um programa que escreve na tela a frase \"O primeiro programa a gente nunca esquece!\".\n",
        "\n",
        "2. **Etiqueta** - Elabore um programa que escreve seu nome completo na primeira linha, seu endereço na segunda e o CEP e telefone na terceira.\n",
        "\n",
        "3. **Letra de música** - Faça um programa que mostre na tela uma letra de música que você gosta (proibido letras do Justin Bieber).\n",
        "\n",
        "4. **Tabela de notas** - Você foi contratado ou contratada por uma escola pra fazer o sistema de boletim dos alunos. Como primeiro passo, escreva um programa que produza a seguinte saída:\n",
        "```\n",
        "ALUNO (A)  NOTA\n",
        "=========  ====\n",
        "ALINE      9.0\n",
        "MÁRIO      DEZ\n",
        "SÉRGIO     4.5\n",
        "SHIRLEY    7.0\n",
        "```\n",
        "\n",
        "5. **Menu** - Elabore um programa que mostre o seguinte menu na tela:\n",
        "```\n",
        "Cadastro de Clientes\n",
        "0 - Fim\n",
        "1 - Inclui\n",
        "2 - Altera\n",
        "3 - Exclui\n",
        "4 - Consulta\n",
        "Digite uma opção: \n",
        "```\n",
        "Ao digitar um valor para a opção, o programa exibe qual opção foi escolhida.\n",
        "```\n",
        "Você escolheu a opção '0'.\n",
        "```\n",
        "\n",
        "6. **Calculadora de Dano** - Escreva um programa que receba dois valores digitados pelo usuário:\n",
        "  - Quantidade de vida de um monstro (entre 10 e 50);\n",
        "  - Valor do ataque do jogador por turno (entre 5 e 10);\n",
        "  - Baseado nos valores digitados, exiba a quantidade de turnos que o jogador irá demorar para conseguir derrotar o monstro.\n",
        "  - ```\n",
        "    O jogador irá derrotar o monstro em 8 turnos.\n",
        "    ```"
      ]
    },
    {
      "cell_type": "code",
      "metadata": {
        "id": "vwikz6p6781X"
      },
      "source": [
        "# 1 Frase na tela - Implemente um programa que escreve na tela a frase \"O primeiro programa a gente nunca esquece!\".\n",
        "\n",
        "print(\"O primeiro programa a gente nunca esquece!\")\n"
      ],
      "execution_count": null,
      "outputs": []
    },
    {
      "cell_type": "code",
      "metadata": {
        "id": "_yQEyxaJ8LLp"
      },
      "source": [
        "# 2Etiqueta - Elabore um programa que escreve seu nome completo na primeira linha, seu endereço na segunda e o CEP e telefone na terceira.\n",
        "\n",
        "nome = input(\"Nome: \")\n",
        "endereco = input(\"Endereço: \")\n",
        "cepetel = input(\"Cep e Telefone: \")\n",
        "\n",
        "print(f\" Nome:{nome}\\nEndereço: {endereco}\\nCep / Telefone{cepetel}\")\n"
      ],
      "execution_count": null,
      "outputs": []
    },
    {
      "cell_type": "code",
      "metadata": {
        "colab": {
          "base_uri": "https://localhost:8080/"
        },
        "id": "QDCMmKNe9nfV",
        "outputId": "4f92114e-51f5-436d-95a8-f099d3b3ab92"
      },
      "source": [
        "# 3Letra de música - Faça um programa que mostre na tela uma letra de música que você gosta (proibido letras do Justin Bieber).\n",
        "print (\"Watermelon Sugar\\n\")\n",
        "print(\"Tastes like strawberries\\nOn a summer evenin'\\nAnd it sounds just like a song\\nI want more berries\\nAnd that summer feelin'\\nIt's so wonderful and warm\\nBreathe me in, breathe me out\\nI don't know if I could ever go without\\nI'm just thinking out loud\\nI don't know if I could ever go without\\nWatermelon sugar high\")\n"
      ],
      "execution_count": null,
      "outputs": [
        {
          "output_type": "stream",
          "text": [
            "Watermelon Sugar\n",
            "\n",
            "Tastes like strawberries\n",
            "On a summer evenin'\n",
            "And it sounds just like a song\n",
            "I want more berries\n",
            "And that summer feelin'\n",
            "It's so wonderful and warm\n",
            "Breathe me in, breathe me out\n",
            "I don't know if I could ever go without\n",
            "I'm just thinking out loud\n",
            "I don't know if I could ever go without\n",
            "Watermelon sugar high\n"
          ],
          "name": "stdout"
        }
      ]
    },
    {
      "cell_type": "code",
      "metadata": {
        "id": "m4R6y4Ha-FGa",
        "colab": {
          "base_uri": "https://localhost:8080/"
        },
        "outputId": "bc1ba327-1b4e-42bc-fd57-7424eb73951d"
      },
      "source": [
        "# 4Tabela de notas - Você foi contratado ou contratada por uma escola pra fazer o sistema de boletim dos alunos. Como primeiro passo, escreva um programa que produza a seguinte saída: \n",
        "\n",
        "print(''' ALUNO (A)  NOTA\n",
        "=========  ====\n",
        "ALINE      9.0\n",
        "MÁRIO      DEZ\n",
        "SÉRGIO     4.5\n",
        "SHIRLEY    7.0''')"
      ],
      "execution_count": 2,
      "outputs": [
        {
          "output_type": "stream",
          "text": [
            " ALUNO (A)  NOTA\n",
            "=========  ====\n",
            "ALINE      9.0\n",
            "MÁRIO      DEZ\n",
            "SÉRGIO     4.5\n",
            "SHIRLEY    7.0\n"
          ],
          "name": "stdout"
        }
      ]
    },
    {
      "cell_type": "code",
      "metadata": {
        "colab": {
          "base_uri": "https://localhost:8080/"
        },
        "id": "BVOQ8HZABGZS",
        "outputId": "8d065405-1089-4071-fc74-d7726ec8a1d3"
      },
      "source": [
        "# 5Menu - Elabore um programa que mostre o seguinte menu na tela:\n",
        "print(\"Cadastro de Clientes\")\n",
        "print(\"0 - Fim\")\n",
        "print(\"1 - Inclui\")\n",
        "print(\"2 - Altera\")\n",
        "print(\"3 - Exclui\")\n",
        "print(\"4 - Consulta\")\n",
        "opcao = input(\"Digite uma opção:\")\n",
        "print(f\"Você escolheu a opção '{opcao}'\")"
      ],
      "execution_count": null,
      "outputs": [
        {
          "output_type": "stream",
          "text": [
            "Cadastro de Clientes\n",
            "0 - Fim\n",
            "1 - Inclui\n",
            "2 - Altera\n",
            "3 - Exclui\n",
            "4 - Consulta\n",
            "Digite uma opção:0\n",
            "Você escolheu a opção '0'\n"
          ],
          "name": "stdout"
        }
      ]
    },
    {
      "cell_type": "code",
      "metadata": {
        "id": "-f8VlF09DSOp",
        "colab": {
          "base_uri": "https://localhost:8080/"
        },
        "outputId": "d6df777b-8d65-4516-b85a-ea9bee4cc301"
      },
      "source": [
        "# 6Calculadora de Dano - Escreva um programa que receba dois valores digitados pelo usuário:\n",
        "monstro = int(input(\"Quantidade de vida de um monstro (entre 10 e 50): \"))\n",
        "ataque = int(input(\"Valor do ataque do jogador por turno (entre 5 e 10): \"))\n",
        "turno = monstro // ataque\n",
        "\n",
        "print(f\"O jogador irá derrotar o monstro em 8 turnos {turno}\")\n"
      ],
      "execution_count": 1,
      "outputs": [
        {
          "output_type": "stream",
          "text": [
            "Quantidade de vida de um monstro (entre 10 e 50): 37\n",
            "Valor do ataque do jogador por turno (entre 5 e 10): 11\n",
            "O jogador irá derrotar o monstro em 8 turnos 3\n"
          ],
          "name": "stdout"
        }
      ]
    },
    {
      "cell_type": "markdown",
      "metadata": {
        "id": "HqgnPaCGqMPB"
      },
      "source": [
        "# Exercícios"
      ]
    },
    {
      "cell_type": "markdown",
      "metadata": {
        "id": "U-ltrv0jqPBq"
      },
      "source": [
        "## #01 - E os 10% do garçom?**\n",
        "\n",
        "- Defina uma variável para o valor de uma refeição que custou R$ 42,54;\n",
        "\n",
        "- Defina uma variável para o valor da taxa de serviço que é de 10%;\n",
        "\n",
        "- Defina uma variável que calcula o valor total da conta e exiba-o no console com essa formatação: R$ XXXX.XX."
      ]
    },
    {
      "cell_type": "code",
      "metadata": {
        "id": "jbcSv4NFkB1C",
        "colab": {
          "base_uri": "https://localhost:8080/"
        },
        "outputId": "5659c611-31d8-46eb-8f3b-1de98557b67b"
      },
      "source": [
        "valorrefeicao = float(42.54)\n",
        "taxaservico = float(10/100)\n",
        "valortotal = valorrefeicao + (valorrefeicao * taxaservico)\n",
        "print(f\"R$ {valortotal:.2f}\")"
      ],
      "execution_count": null,
      "outputs": [
        {
          "output_type": "stream",
          "text": [
            "R$ 46.79\n"
          ],
          "name": "stdout"
        }
      ]
    },
    {
      "cell_type": "markdown",
      "metadata": {
        "id": "JR3-KgsTqR41"
      },
      "source": [
        "## #02 - Qual o valor do troco?\n",
        "\n",
        "*   Defina uma variável para o valor de uma compra que custou R$100,98;\n",
        "\n",
        "*   Defina uma variável para o valor que o cliente pagou R$150,00;\n",
        "\n",
        "*   Defina uma variável que calcula o valor do troco e exiba-o no console com o valor final arredondado."
      ]
    },
    {
      "cell_type": "code",
      "metadata": {
        "id": "hBf3kE_pksAI",
        "colab": {
          "base_uri": "https://localhost:8080/"
        },
        "outputId": "9cdeaebf-718e-4e63-f63e-1a73c65e0201"
      },
      "source": [
        "totalpago = float(150.00)\n",
        "valorproduto = float(100.98)\n",
        "troco =int(totalpago - valorproduto)\n",
        "print(f\"R$ {troco},00\")"
      ],
      "execution_count": null,
      "outputs": [
        {
          "output_type": "stream",
          "text": [
            "R$ 49,00\n"
          ],
          "name": "stdout"
        }
      ]
    },
    {
      "cell_type": "markdown",
      "metadata": {
        "id": "2Uu84Uqtkunt"
      },
      "source": [
        "## #03 - Você está na flor da idade?\n",
        "\n",
        "*  Defina uma variável para o valor do ano do nascimento;\n",
        "*  Defina uma variável para o valor do ano atual;\n",
        "*  Defina uma variável que calcula o valor final da idade da pessoa;\n",
        "*  Exiba uma mensagem final dizendo a idade da pessoa e a mensagem \"Você está na flor da idade\"."
      ]
    },
    {
      "cell_type": "code",
      "metadata": {
        "id": "kyXxJV3nk14Z",
        "colab": {
          "base_uri": "https://localhost:8080/"
        },
        "outputId": "c542fb35-26ec-441c-92c2-eddd02e93612"
      },
      "source": [
        "anonascimento = int(input(\"Qual o ano de nascimento: \"))\n",
        "anoatual = 2021\n",
        "idade = anoatual - anonascimento\n",
        "print(f\"Você tem {idade} anos, e está na flor da idade.\")"
      ],
      "execution_count": null,
      "outputs": [
        {
          "output_type": "stream",
          "text": [
            "Qual o ano de nascimento: 1992\n",
            "Você tem 29 anos, e está na flor da idade.\n"
          ],
          "name": "stdout"
        }
      ]
    },
    {
      "cell_type": "markdown",
      "metadata": {
        "id": "w1T7s2q0p-pt"
      },
      "source": [
        "# Mini projetos"
      ]
    },
    {
      "cell_type": "markdown",
      "metadata": {
        "id": "meUw7PTwqC-Y"
      },
      "source": [
        "## #01 - Conversor de moedas\n",
        "\n",
        "Crie um programa que solicite um um valor em real ao usuário e converta esse valor, para:\n",
        "\n",
        "- DOLAR,\n",
        "- EURO,\n",
        "- LIBRA ESTERLINA,\n",
        "- DÓLAR CANADENSE,\n",
        "- PESO ARGENTINO,\n",
        "- PESO CHILENO.\n",
        "\n",
        "Para esse exercício você precisará realizar uma pesquisa para saber a cotação de cada moeda em real. Mostrar o resultado no formato $ XXXX.XX"
      ]
    },
    {
      "cell_type": "code",
      "metadata": {
        "id": "q481snSClrXe",
        "colab": {
          "base_uri": "https://localhost:8080/"
        },
        "outputId": "297718e0-1a42-429c-a06e-8220b126701c"
      },
      "source": [
        "real = float(input(\"Digite o valor em R$ \"))\n",
        "dolar = float(real /5.04)\n",
        "euro = float(real / 6.13)\n",
        "libra = float(real / 7.13 )\n",
        "dcanada = float(real / 4.16)\n",
        "pargentino = float(real / 0.053)\n",
        "pchileno = float(real / 0.0070)\n",
        "\n",
        "print(f\"DOLAR $ {dolar:.2f}\\nEURO $ {euro:.2f}\\nLIBRA ESTERLINA $ {libra:.2f}\\nDÓLAR CANADENSE $ {dcanada:.2f}\\nPESO ARGENTINO $ {pargentino:.2f}\\nPESO CHILENO $ {pchileno:.2f}\")"
      ],
      "execution_count": null,
      "outputs": [
        {
          "output_type": "stream",
          "text": [
            "digite o valor em R$ 1\n",
            "DOLAR $ 0.20\n",
            "EURO $ 0.16\n",
            "LIBRA ESTERLINA $ 0.14\n",
            "DÓLAR CANADENSE $ 0.24\n",
            "PESO ARGENTINO $ 18.87\n",
            "PESO CHILENO $ 142.86\n"
          ],
          "name": "stdout"
        }
      ]
    },
    {
      "cell_type": "markdown",
      "metadata": {
        "id": "KK9PIcJ4qIF9"
      },
      "source": [
        "## #02 - Calculadora de aumento de aluguel\n",
        "\n",
        "Vamos construir um programa que irá calcular o aumento anual do seu aluguel em duas partes:\n",
        "\n",
        "### Parte 1\n",
        "A sua calculadora vai receber o `valor do aluguel` e calcular o aumento baseado no `IGPM de 31%`. A calculadora deve apresentar o aluguel reajustado no formato `R$ XXXX.XX`\n",
        "\n",
        "**Exemplo:**\n",
        "```\n",
        "Valor do aluguel = 1000\n",
        "Valor do aluguel reajustado = R$ 1310,00"
      ]
    },
    {
      "cell_type": "code",
      "metadata": {
        "id": "VdjHa9Csl0Lg",
        "colab": {
          "base_uri": "https://localhost:8080/"
        },
        "outputId": "f423fed5-efca-4f7d-daf1-bd328d0d214c"
      },
      "source": [
        "valoraluguel = float(input(\"Digite o valor do seu aluguel: \"))\n",
        "igmp = float(31/100)\n",
        "valor1 =  (valoraluguel * igmp)\n",
        "valor2 = valoraluguel + valor1\n",
        "print(f\"Valor do aluguel = R$ {valoraluguel:.2f} Valor do aluguel reajustado = R$ {valor2:.2f}\")"
      ],
      "execution_count": null,
      "outputs": [
        {
          "output_type": "stream",
          "text": [
            "Digite o valor do seu aluguel: 1000\n",
            "Valor do aluguel = R$ 1000.00 Valor do aluguel reajustado = R$ 1310.00\n"
          ],
          "name": "stdout"
        }
      ]
    },
    {
      "cell_type": "markdown",
      "metadata": {
        "id": "lKTwnuNMl8rP"
      },
      "source": [
        "### Parte 2\n",
        "Agora, altere sua calculadora para receber além do `valor do aluguel`, o percentual do reajuste no formato `XX%`.  \n",
        "\n",
        "**Dica:** Descubra uma forma de transformar o percentual recebido em um número para efetuar o cálculo.\n",
        "\n",
        "**Exemplo:**\n",
        "```\n",
        "Valor do aluguel = 1000\n",
        "Percentual do reajuste = 31%\n",
        "Valor do aluguel reajustado = R% 1310,00\n",
        "```"
      ]
    },
    {
      "cell_type": "code",
      "metadata": {
        "id": "aw2Zk_9KmA85",
        "colab": {
          "base_uri": "https://localhost:8080/"
        },
        "outputId": "349672b0-52ba-49ca-f32c-8ea68dc1a30d"
      },
      "source": [
        "valorAluguel = float(input(\"Digite o valor do aluguel: \"))\n",
        "\n",
        "percentual = (input(\"Digite o percentual de reajuste (XX%): \"))\n",
        "\n",
        "porcento = float(percentual.replace(\"%\",\"\"))\n",
        "\n",
        "print(f\"Valor do aluguel reajustado: R$ {(valorAluguel+valorAluguel*porcento/100):.2f}.\")"
      ],
      "execution_count": null,
      "outputs": [
        {
          "output_type": "stream",
          "text": [
            "Digite o valor do aluguel: 1000\n",
            "Digite o percentual de reajuste (XX%): 31%\n",
            "Valor do aluguel reajustado: R$ 1310.00.\n"
          ],
          "name": "stdout"
        }
      ]
    }
  ]
}