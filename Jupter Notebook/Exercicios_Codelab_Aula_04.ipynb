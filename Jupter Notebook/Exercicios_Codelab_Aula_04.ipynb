{
  "nbformat": 4,
  "nbformat_minor": 0,
  "metadata": {
    "colab": {
      "name": "Exercicios_Codelab_Aula_04.ipynb",
      "provenance": [],
      "include_colab_link": true
    },
    "kernelspec": {
      "name": "python3",
      "display_name": "Python 3"
    },
    "language_info": {
      "name": "python"
    }
  },
  "cells": [
    {
      "cell_type": "markdown",
      "metadata": {
        "id": "view-in-github",
        "colab_type": "text"
      },
      "source": [
        "<a href=\"https://colab.research.google.com/github/wendeel-lima/Exercicios-Python/blob/main/Exercicios_Codelab_Aula_04.ipynb\" target=\"_parent\"><img src=\"https://colab.research.google.com/assets/colab-badge.svg\" alt=\"Open In Colab\"/></a>"
      ]
    },
    {
      "cell_type": "markdown",
      "metadata": {
        "id": "SW-cnnj3AAlE"
      },
      "source": [
        "## Exercício 01\n",
        "\n",
        "Faça um programa que pergunte ao usuário um número e valide se o numero é par ou impar:\n",
        "\n",
        "* Crie uma variável para receber o valor, com conversão para int\n",
        "* Para um número ser par, a divisão dele por 2 tem que dar resto 0"
      ]
    },
    {
      "cell_type": "code",
      "metadata": {
        "id": "ZeuCDPZQFT9T"
      },
      "source": [
        "n = int(input(\"digite um numero: \"))\n",
        "\n",
        "if n % 2 == 0:\n",
        "  print(\"seu numero é par!!\")\n",
        "else:\n",
        "  print(\"Seu numero é Impar!!\")"
      ],
      "execution_count": null,
      "outputs": []
    },
    {
      "cell_type": "markdown",
      "metadata": {
        "id": "jXVUBuN3DcU-"
      },
      "source": [
        "## Exercício 02\n",
        "\n",
        "> Parte 1\n",
        "\n",
        "Faça um script que peça um valor e mostre na tela se o valor é positivo ou negativo.\n",
        "\n",
        "> Parte 2\n",
        "\n",
        "Agora implemente a funcionalidade de não aceitar o número 0, no input. (esse vai além do explicado até agora)"
      ]
    },
    {
      "cell_type": "code",
      "metadata": {
        "id": "bsM4V6SeHwJr"
      },
      "source": [
        "n = int(input(\"digite um numero: \"))\n",
        "\n",
        "if n == 0:\n",
        "  print(\"Numero neutro\")\n",
        "else:\n",
        "  if n < 0 :\n",
        "    print(\"seu numero é negativo!!\")\n",
        "  else:\n",
        "    print(\"Seu numero é positivo!!\")"
      ],
      "execution_count": null,
      "outputs": []
    },
    {
      "cell_type": "markdown",
      "metadata": {
        "id": "90mUizLXOKd3"
      },
      "source": [
        "## Exercício 03\n",
        "\n",
        "Faça um programa que peça dois números, imprima o maior deles ou imprima \"Numeros iguais\" se os números forem iguais."
      ]
    },
    {
      "cell_type": "code",
      "metadata": {
        "id": "7yXB2kfUVYuD"
      },
      "source": [
        "n1 = int(input(\"digite um numero: \"))\n",
        "n2 = int(input(\"digite outro numero: \"))\n",
        "\n",
        "if n1 > n2:\n",
        "  print(f\"o numero maior é {n1}\")\n",
        "elif n1 < n2:\n",
        "  print(f\"o numero maior é {n2}\")\n",
        "else:\n",
        "  print(\"Numeros Iguais\")"
      ],
      "execution_count": null,
      "outputs": []
    },
    {
      "cell_type": "markdown",
      "metadata": {
        "id": "9BATv7tsOWOI"
      },
      "source": [
        "## Exercício 04\n",
        "\n",
        "Crie um programa que verifique se uma letra digitada é \"F\" ou \"M\". Conforme a letra, escrever: F - Feminino, M - Masculino, caso escreva outra letra: Sexo Biológico Inválido."
      ]
    },
    {
      "cell_type": "code",
      "metadata": {
        "id": "pRm8kyI7Wnp4"
      },
      "source": [
        "letra = input(\"Qual seu sexo biologico? [F/M]: \").strip().upper()[0]\n",
        "\n",
        "if letra == \"M\":\n",
        "  print(\"Masculino\")\n",
        "elif letra == \"F\":\n",
        "  print(\"Feminino\")\n",
        "else:\n",
        "  print(\"Sexo Biologico invalido\")"
      ],
      "execution_count": null,
      "outputs": []
    },
    {
      "cell_type": "markdown",
      "metadata": {
        "id": "WX2j2ITtY3G5"
      },
      "source": [
        "### Exercício 05\n",
        "\n",
        "Crie um programa em Python que peça a nota do aluno, que deve ser um float entre 0.00 e 10.0\n",
        "\n",
        "* Se a nota for menor que 6.0, deve exibir a nota F.\n",
        "\n",
        "* Se a nota for de 6.0 até 7.0, deve exibir a nota D.\n",
        "\n",
        "* Se a nota for entre 7.0 e 8.0, deve exibir a nota C.\n",
        "\n",
        "* Se a nota for entre 8.0 e 9.0, deve exibir a nota B.\n",
        "\n",
        "* Por fim, se for entre 9.0 e 10.0, deve exibir um belo de um A."
      ]
    },
    {
      "cell_type": "code",
      "metadata": {
        "id": "4CjqLlFWY5Z-",
        "colab": {
          "base_uri": "https://localhost:8080/"
        },
        "outputId": "18f2cb58-df46-482f-9264-9fc4dfe04303"
      },
      "source": [
        "nota = float(input(\"Digite a nota do aluno entre 0 e 10: \"))\n",
        "\n",
        "if nota < 6.0:\n",
        "  print(\"nota F\")\n",
        "elif nota == 6.0 or nota = 7.00:\n",
        "  print(\"nota D\")\n",
        "elif nota == 7.0 or nota <= 8.00:\n",
        "  print(\"nota C\")\n",
        "elif nota == 8.0 or nota <= 9.00:\n",
        "  print(\"nota B\")\n",
        "elif nota == 9.0 or nota <= 10.00:\n",
        "  print(\"nota A\")"
      ],
      "execution_count": null,
      "outputs": [
        {
          "output_type": "stream",
          "text": [
            "Digite a nota do aluno entre 0 e 10: 5\n",
            "nota F\n"
          ],
          "name": "stdout"
        }
      ]
    },
    {
      "cell_type": "markdown",
      "metadata": {
        "id": "xep4W_T-s-Ra"
      },
      "source": [
        "# *Mini Projetos*"
      ]
    },
    {
      "cell_type": "markdown",
      "metadata": {
        "id": "4YbMlSEZG7UM"
      },
      "source": [
        "## **PROJETO 01**\n",
        "\n",
        "*   Escreva um programa que receba uma string digitada pelo usuário;\n",
        "*   Caso a string seja \"medieval\", exiba no console \"espada\";\n",
        "*   Caso contrário, se a string for \"futurista\", exiba no console \"sabre de luz\";\n",
        "*   Caso contrário, exiba no console \"Tente novamente\""
      ]
    },
    {
      "cell_type": "code",
      "metadata": {
        "id": "tn9QH5pVG8Rq"
      },
      "source": [
        "# Resposta:\n",
        "resp = input(\"ESCOLHA SUA BATALHA:medieval ou futurista ? \") .strip().lower()\n",
        "if resp == \"medieval\":\n",
        "  print(\"Sua arma será uma *espada*\")\n",
        "elif resp == \"futurista\":\n",
        "  print(\"Sua arma será uma *sabre de luz*\")\n",
        "else:\n",
        "  print(\"Tente novamente\")"
      ],
      "execution_count": null,
      "outputs": []
    },
    {
      "cell_type": "markdown",
      "metadata": {
        "id": "zUGk1OiNHDik"
      },
      "source": [
        "## **PROJETO 02**\n",
        "\n",
        "* Escreva um programa que receba um ataque de espada ou sabre digitada pelo usuário;\n",
        "\n",
        "* Caso o ataque seja \"espada\", exiba no console \"VOCÊ AINDA NÃO MATOU O CHEFÃO\";\n",
        "\n",
        "* Caso contrário, se o ataque for \"sabre\", exiba no console \"VOCÊ DERROTOU O CHEFÃO COM O SABRE DE LUZ\";\n",
        "\n",
        "* Caso contrário, exiba no console \"ATAQUE NOVAMENTE\""
      ]
    },
    {
      "cell_type": "code",
      "metadata": {
        "id": "eNZokIIOHHkp",
        "outputId": "5d5f9683-5dc9-47b1-b75c-d03c0c6e65bd",
        "colab": {
          "base_uri": "https://localhost:8080/"
        }
      },
      "source": [
        "# Resposta:\n",
        "resp = input(\"ESCOLHA SUA BATALHA:medieval ou futurista ? \") .strip().lower()\n",
        "if resp == \"medieval\":\n",
        "  print(\"Sua arma será uma *espada*\")\n",
        "  espada = input(\"Deseja atacar agora [Y/N] ?\").strip().upper()[0]\n",
        "  if espada == \"Y\":\n",
        "    print(\"VOCÊ AINDA NÃO MATOU O CHEFÃO\")\n",
        "    ataque2 = input(\"Deseja atacar novamente [Y/N] ?\").strip().upper()[0]\n",
        "    if ataque2 == \"Y\":\n",
        "      print(\"VOCÊ DERROTOU O CHEFÃO\")\n",
        "    else:\n",
        "        print(\"VOCÊ PERDEU\")\n",
        "  elif espada == \"N\":\n",
        "     print(\"Tente novamente\") \n",
        "elif resp == \"futurista\":\n",
        "  print(\"Sua arma será uma *sabre de luz*\")\n",
        "  sabre = input(\"Deseja atacar agora [Y/N] ?\").strip().upper()[0]\n",
        "  if sabre == \"Y\":\n",
        "    print(\"VOCÊ DERROTOU O CHEFÃO COM O SABRE DE LUZ\")\n",
        "  else:\n",
        "    print(\"Tente novamente\")"
      ],
      "execution_count": 8,
      "outputs": [
        {
          "output_type": "stream",
          "text": [
            "ESCOLHA SUA BATALHA:medieval ou futurista ? MEDIEVAL\n",
            "Sua arma será uma *espada*\n",
            "Deseja atacar agora [Y/N] ?Y\n",
            "VOCÊ AINDA NÃO MATOU O CHEFÃO\n",
            "Deseja atacar novamente [Y/N] ?N\n",
            "VOCÊ PERDEU\n"
          ],
          "name": "stdout"
        }
      ]
    },
    {
      "cell_type": "markdown",
      "metadata": {
        "id": "NRhLAMa6ZfqU"
      },
      "source": [
        "## **DESAFIO 01**\n",
        "\n",
        "**Reajuste salarial**\n",
        "\n",
        "As empresas @.com resolveram dar um aumento de salário aos seus colaboradores e lhe contrataram para desenvolver o programa que calculará os reajustes.\n",
        "\n",
        "Faça um programa que recebe o salário de um colaborador e o reajuste segundo o seguinte critério, baseado no salário atual:\n",
        "* salários até R$ 280,00 (incluindo) : aumento de 20%\n",
        "\n",
        "* salários entre R\\$ 280,00 e R$ 700,00 : aumento de 15%\n",
        "\n",
        "* salários entre R\\$ 700,00 e R$ 1500,00 : aumento de 10%\n",
        "\n",
        "* salários de R$ 1500,00 em diante : aumento de 5% \n",
        "\n",
        "Após o aumento ser realizado, informe na tela:\n",
        "* o salário antes do reajuste;\n",
        "\n",
        "* o percentual de aumento aplicado;\n",
        "\n",
        "* o valor do aumento;\n",
        "\n",
        "* o novo salário, após o aumento.\""
      ]
    },
    {
      "cell_type": "code",
      "metadata": {
        "id": "VpC5oZINZXzt"
      },
      "source": [
        "salario = float(input(\"Digite seu salario: R$ \"))\n",
        "\n",
        "if salario < 280.00:\n",
        "  print(f\"o salário antes do reajuste: R$ {salario}\")\n",
        "  print (\"reajuste: 20%\")\n",
        "  reajuste = (salario * 0.20)\n",
        "  print(f\"o valor do almento :R$ {reajuste}\")\n",
        "  print(f\"o novo salário, após o aumento R$ {reajuste + salario}\")\n",
        "elif salario == 280.00 or salario <= 700.00:\n",
        "  print(f\"o salário antes do reajuste: R$ {salario}\")\n",
        "  print (\"reajuste: 15%\")\n",
        "  reajuste = (salario * 0.15)\n",
        "  print(f\"o valor do almento :R$ {reajuste}\")\n",
        "  print(f\"o novo salário, após o aumento R$ {reajuste + salario}\")\n",
        "elif salario == 700.00 or salario <= 1500.00:\n",
        "  print(f\"o salário antes do reajuste: R$ {salario}\")\n",
        "  print (\"reajuste: 10%\")\n",
        "  reajuste = (salario * 0.10)\n",
        "  print(f\"o valor do almento :R$ {reajuste}\")\n",
        "  print(f\"o novo salário, após o aumento R$ {reajuste + salario}\")\n",
        "elif salario >= 1500.00:\n",
        "  print(f\"o salário antes do reajuste: R$ {salario}\")\n",
        "  print (\"reajuste: 5%\")\n",
        "  reajuste = (salario * 0.05)\n",
        "  print(f\"o valor do almento :R$ {reajuste}\")\n",
        "  print(f\"o novo salário, após o aumento R$ {reajuste + salario}\")\n",
        "\n",
        "\n",
        "\n"
      ],
      "execution_count": null,
      "outputs": []
    },
    {
      "cell_type": "markdown",
      "metadata": {
        "id": "HvThpbU4aBGy"
      },
      "source": [
        ""
      ]
    },
    {
      "cell_type": "code",
      "metadata": {
        "id": "TVeHZbyQZIzO",
        "colab": {
          "base_uri": "https://localhost:8080/"
        },
        "outputId": "8ab1e168-926f-4f3a-cb72-6154fb3faaab"
      },
      "source": [
        "import random\n",
        "numero = int(random.randint(1,10))\n",
        "numero2 = int(input(\"Escolha um numero: [1 a 10] \"))\n",
        "print(f\"O numero sorteado foi: {numero}\")\n",
        "if numero2 == numero:\n",
        "  print(\"parabéns, você acertou!!\")\n",
        "else:\n",
        "  print(\"poxa, você errou!\")"
      ],
      "execution_count": null,
      "outputs": [
        {
          "output_type": "stream",
          "text": [
            "Escolha um numero: [1 a 10] 10\n",
            "O numero sorteado foi: 1\n",
            "poxa, você errou!\n"
          ],
          "name": "stdout"
        }
      ]
    },
    {
      "cell_type": "markdown",
      "metadata": {
        "id": "mjLFAUooaOH1"
      },
      "source": [
        "## **Desafio 03**\n",
        "\n",
        "**Caixa eletrônico**\n",
        "\n",
        "Faça um Programa para um caixa eletrônico. O programa deverá perguntar ao usuário a valor do saque e depois informar quantas notas de cada valor serão fornecidas. As notas disponíveis serão as de 1, 5, 10, 50 e 100 reais. O valor mínimo é de 10 reais e o máximo de 600 reais. O programa não deve se preocupar com a quantidade de notas existentes na máquina.\n",
        "\n",
        "* Exemplo 1: Para sacar a quantia de 256 reais, o programa fornece duas notas de 100, uma nota de 50, uma nota de 5 e uma nota de 1;\n",
        "\n",
        "* Exemplo 2: Para sacar a quantia de 399 reais, o programa fornece três notas de 100, uma nota de 50, quatro notas de 10, uma nota de 5 e quatro notas de 1.\n",
        "\n"
      ]
    },
    {
      "cell_type": "code",
      "metadata": {
        "id": "sH65bTx-ZMLh",
        "colab": {
          "base_uri": "https://localhost:8080/"
        },
        "outputId": "ea6da6c1-2fdb-4d9d-89b8-fe2e327d7531"
      },
      "source": [
        "saque = int(input(\"Qual o valor do saque?   R$\"))\n",
        "notas = [1,5,10,50,100]\n",
        "\n",
        "if saque < 10 or  saque > 600:\n",
        "  print(\"Valor Indisponivel\")\n",
        "\n",
        "\n",
        "#if saque % 2 = 1\n",
        " # print(f\"\")\n",
        "\n"
      ],
      "execution_count": null,
      "outputs": [
        {
          "output_type": "stream",
          "text": [
            "Qual o valor do saque?   R$11\n"
          ],
          "name": "stdout"
        }
      ]
    },
    {
      "cell_type": "code",
      "metadata": {
        "colab": {
          "base_uri": "https://localhost:8080/"
        },
        "id": "kc2rd2GOHkqv",
        "outputId": "41b1a673-c3d0-4103-c1a5-ae19c55e1e67"
      },
      "source": [
        "print('''\n",
        "*#*#*#*#*#*#*#*#*#*#*#*#*#*#*#*#*#*#*#*#*#*#*#*#*#*#*#*#*#*#*#*#*#**#*#*#*#*#*#*#*#*#*#*#*#*#*#*#*#*#*#*#*#*#*#*#*#*#*#*\n",
        "*#*#*#*#*#*#*#*#*#*#*#*#*#*#*#*#*#*#*#*#*#*#*#*#*#*#*#*#*#*#*#*#*#**#*#*#*#*#*#*#*#*#*#*#*#*#*#*#*#*#*#*#*#*#*#*#*#*#*#*\n",
        "*#*#*#*#*#*#         #*#*         *#*           *#*         *#*         *#*   *#*   *#*#*#**  *#*         *#*#*#*#*#*#*#\n",
        "*#*#*#*#*#*#    *#*   *#*   *#*#*#*#*#*#*   *#*#*#*   **#*#*#*#*#*   *#*#*#   #*#*   *#*#*   #*#*   **#*#*#*##*#*#*#*#*#\n",
        "*#*#*#*#*#*#    *#*#  *#*       *#*#*#*#*   *#*#*#*       **#*#*#*   *#*#*#   #*#*#   #*#   #*#*#*       **#*#*#*#*#*#*#\n",
        "*#*#*#*#*#*#    *#*   *#*   *#*#*#*#*#*#*   *#*#*#*   **#*#*#*#*#*   *#*#*#   #*#*#*     *#*#*#*#*   **#*#*#*#*#*#*#*#*#\n",
        "*#*#*#*#*#*#         #*#*         *#*#*#*   *#*#*#*         **#*#*   *#*#*#   #*#*#*#*  #*#*#*#*#*         **#*#*#*#*#*#\n",
        "*#*#*#*#*#*#*#*#*#*#*#*#*#*#*#*#*#*#*#*#*#*#*#*#*#*#*#*#*#*#*#*#*#*#*#*#*#*#*#*#*#*#*#*#*#*#*#*#*#*#*#*#*#*#*#*#*#*#*#*#\n",
        "*#*#*#*#*#*#*#*#*#*#*#*#*#*#*#*#*#*#*#*#*#*#*#*#*#*#*#*#*#*#*#*#*#*#*#*#*#*#*#*#*#*#*#*#*#*#*#*#*#*#*#*#*#*#*#*#*#*#*#*#\n",
        "''')\n",
        "\n",
        "print(\"\\n************************************************************************************************************************\")\n",
        "\n",
        "\n",
        "resp1 = input(\"1 - Você telefonou para a vítima?[Y/N] \").strip().upper()[0]\n",
        "if resp1 == \"Y\":\n",
        "  alg1 = int((resp1.replace(\"Y\",\"1\")))\n",
        "  #print(alg1)\n",
        "else:\n",
        "    alg1 = int((resp1.replace(\"N\",\"0\")))\n",
        "    #print(alg1)\n",
        "print(\"\\n************************************************************************************************************************\")\n",
        "resp2 = input(\"2 - Você esteve no local do crime?[Y/N] \").strip().upper()[0]\n",
        "if resp2 == \"Y\":\n",
        "  alg2 = int((resp2.replace(\"Y\",\"1\")))\n",
        "  #print(alg2)\n",
        "else:\n",
        "    alg2 = int((resp2.replace(\"N\",\"0\")))\n",
        "    #print(alg2)\n",
        "print(\"\\n************************************************************************************************************************\")\n",
        "resp3 = input(\"3 - Você mora perto da vítima?[Y/N] \").strip().upper()[0]\n",
        "if resp3 == \"Y\":\n",
        "  alg3 = int((resp3.replace(\"Y\",\"1\")))\n",
        "  #print(alg3)\n",
        "else:\n",
        "    alg3 = int((resp3.replace(\"N\",\"0\")))\n",
        "    #print(alg3)\n",
        "print(\"\\n************************************************************************************************************************\")\n",
        "resp4 = input(\"4 - Você devia para a vítima?[Y/N] \").strip().upper()[0]\n",
        "if resp4 == \"Y\":\n",
        "  alg4 = int((resp4.replace(\"Y\",\"1\")))\n",
        "  #print(alg4)\n",
        "else:\n",
        "    alg4 = int((resp4.replace(\"N\",\"0\")))\n",
        "    #print(alg4)\n",
        "print(\"\\n************************************************************************************************************************\")\n",
        "resp5 = input(\"5 - Você já trabalhou com a vítima[Y/N? \").strip().upper()[0]\n",
        "if resp5 == \"Y\":\n",
        "   alg5 = int((resp5.replace(\"Y\",\"1\")))\n",
        "   #print(alg5)\n",
        "else:\n",
        "    alg5 = int((resp5.replace(\"N\",\"0\")))\n",
        "    #print(alg5)\n",
        "print(\"\\n************************************************************************************************************************\")\n",
        "\n",
        "soma = alg1 + alg2 + alg3 + alg4 + alg5\n",
        "#print(f\" A soma é {soma}\")\n",
        "\n",
        "if soma < 2:\n",
        "  print(\"                                                     Inocente                                                            \")\n",
        "  print(\"\\n************************************************************************************************************************\")\n",
        "elif soma == 2 or soma < 3: \n",
        "  print(\"                                                     Suspeito                                                            \")\n",
        "  print(\"\\n************************************************************************************************************************\")\n",
        "elif soma == 3 or soma < 5:\n",
        "  print(\"                                                     Cumplice                                                            \")\n",
        "  print(\"\\n************************************************************************************************************************\")\n",
        "else:\n",
        "  print(\"                                                     Assassino                                                           \")\n",
        "  print(\"\\n************************************************************************************************************************\")\n",
        "\n"
      ],
      "execution_count": null,
      "outputs": [
        {
          "output_type": "stream",
          "text": [
            "\n",
            "*#*#*#*#*#*#*#*#*#*#*#*#*#*#*#*#*#*#*#*#*#*#*#*#*#*#*#*#*#*#*#*#*#**#*#*#*#*#*#*#*#*#*#*#*#*#*#*#*#*#*#*#*#*#*#*#*#*#*#*\n",
            "*#*#*#*#*#*#*#*#*#*#*#*#*#*#*#*#*#*#*#*#*#*#*#*#*#*#*#*#*#*#*#*#*#**#*#*#*#*#*#*#*#*#*#*#*#*#*#*#*#*#*#*#*#*#*#*#*#*#*#*\n",
            "*#*#*#*#*#*#         #*#*         *#*           *#*         *#*         *#*   *#*   *#*#*#**  *#*         *#*#*#*#*#*#*#\n",
            "*#*#*#*#*#*#    *#*   *#*   *#*#*#*#*#*#*   *#*#*#*   **#*#*#*#*#*   *#*#*#   #*#*   *#*#*   #*#*   **#*#*#*##*#*#*#*#*#\n",
            "*#*#*#*#*#*#    *#*#  *#*       *#*#*#*#*   *#*#*#*       **#*#*#*   *#*#*#   #*#*#   #*#   #*#*#*       **#*#*#*#*#*#*#\n",
            "*#*#*#*#*#*#    *#*   *#*   *#*#*#*#*#*#*   *#*#*#*   **#*#*#*#*#*   *#*#*#   #*#*#*     *#*#*#*#*   **#*#*#*#*#*#*#*#*#\n",
            "*#*#*#*#*#*#         #*#*         *#*#*#*   *#*#*#*         **#*#*   *#*#*#   #*#*#*#*  #*#*#*#*#*         **#*#*#*#*#*#\n",
            "*#*#*#*#*#*#*#*#*#*#*#*#*#*#*#*#*#*#*#*#*#*#*#*#*#*#*#*#*#*#*#*#*#*#*#*#*#*#*#*#*#*#*#*#*#*#*#*#*#*#*#*#*#*#*#*#*#*#*#*#\n",
            "*#*#*#*#*#*#*#*#*#*#*#*#*#*#*#*#*#*#*#*#*#*#*#*#*#*#*#*#*#*#*#*#*#*#*#*#*#*#*#*#*#*#*#*#*#*#*#*#*#*#*#*#*#*#*#*#*#*#*#*#\n",
            "\n",
            "\n",
            "************************************************************************************************************************\n",
            "1 - Você telefonou para a vítima?[Y/N] y\n",
            "\n",
            "************************************************************************************************************************\n",
            "2 - Você esteve no local do crime?[Y/N] y\n",
            "\n",
            "************************************************************************************************************************\n",
            "3 - Você mora perto da vítima?[Y/N] y\n",
            "\n",
            "************************************************************************************************************************\n",
            "4 - Você devia para a vítima?[Y/N] y\n",
            "\n",
            "************************************************************************************************************************\n",
            "5 - Você já trabalhou com a vítima[Y/N? y\n",
            "\n",
            "************************************************************************************************************************\n",
            "                                                     Assassino                                                           \n",
            "\n",
            "************************************************************************************************************************\n"
          ],
          "name": "stdout"
        }
      ]
    }
  ]
}