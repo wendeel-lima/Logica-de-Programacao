{
  "nbformat": 4,
  "nbformat_minor": 0,
  "metadata": {
    "colab": {
      "name": "Exercicios_String.ipynb",
      "provenance": [],
      "include_colab_link": true
    },
    "kernelspec": {
      "name": "python3",
      "display_name": "Python 3"
    },
    "language_info": {
      "name": "python"
    }
  },
  "cells": [
    {
      "cell_type": "markdown",
      "metadata": {
        "id": "view-in-github",
        "colab_type": "text"
      },
      "source": [
        "<a href=\"https://colab.research.google.com/github/wendeel-lima/Exercicios-Python/blob/main/Exercicios_String.ipynb\" target=\"_parent\"><img src=\"https://colab.research.google.com/assets/colab-badge.svg\" alt=\"Open In Colab\"/></a>"
      ]
    },
    {
      "cell_type": "markdown",
      "metadata": {
        "id": "wbV2YraddQOF"
      },
      "source": [
        "01 - Considere a string A = \"Os limites só existem se você os deixar existir.(goku)\".\n",
        "\n",
        "Que fatia corresponde a (goku)?"
      ]
    },
    {
      "cell_type": "code",
      "metadata": {
        "colab": {
          "base_uri": "https://localhost:8080/"
        },
        "id": "ZiJRantxe6pC",
        "outputId": "8e070c56-79c5-4931-d552-83f6aa18675b"
      },
      "source": [
        "A = \"Os limites só existem se você os deixar existir.(goku)\"\n",
        "print(A[48:54:1])"
      ],
      "execution_count": 12,
      "outputs": [
        {
          "output_type": "stream",
          "text": [
            "(goku)\n"
          ],
          "name": "stdout"
        }
      ]
    },
    {
      "cell_type": "markdown",
      "metadata": {
        "id": "2hA2Tw6sdR95"
      },
      "source": [
        "02 - Escreva um programa que solicite uma frase ao usuário e escreva a frase toda em maiúscula e sem espaços em branco."
      ]
    },
    {
      "cell_type": "code",
      "metadata": {
        "colab": {
          "base_uri": "https://localhost:8080/"
        },
        "id": "gpw8-4oRhK96",
        "outputId": "9eacc735-4b86-41d2-9bcb-834ed88c63dc"
      },
      "source": [
        "minuculasemespaco = input(\"Escreva seu nome completo: \") .upper().replace(\" \",\"\")\n",
        "print(minuculasemespaco)"
      ],
      "execution_count": 16,
      "outputs": [
        {
          "output_type": "stream",
          "text": [
            "Escreva seu nome completo: o macacaco voador\n",
            "OMACACACOVOADOR\n"
          ],
          "name": "stdout"
        }
      ]
    },
    {
      "cell_type": "markdown",
      "metadata": {
        "id": "EntkYdeSdT_j"
      },
      "source": [
        "03 - Elabore um programa que recebe o seu nome, endereço e hobby e mostra cada uma das informações da seguinte forma:\n",
        "- Nome -> Letra maiúscula\n",
        "- Endereço -> Letra minúscula\n",
        "- Hobby -> Primeira letra maiúscula\n",
        "\n",
        "**Exemplo Entrada:**\n",
        "```\n",
        "Nome: bruno fabri\n",
        "Endereço: Rua ABC\n",
        "Hobby: jogar cs\n",
        "```\n",
        "\n",
        "**Exemplo Saída:**\n",
        "```\n",
        "Nome: BRUNO FABRI\n",
        "Endereço: rua abc\n",
        "Hobby: Jogar cs\n",
        "```"
      ]
    },
    {
      "cell_type": "code",
      "metadata": {
        "id": "33tjhUpAizML"
      },
      "source": [
        "nome = input(\"Nome:\") .upper()\n",
        "endereco = input(\"Endereço: \") .lower()\n",
        "hobby = input(\"Hobby:\") .title()\n",
        "\n",
        "print(f\"\"\"Nome: {nome}\n",
        "Endereço: {endereco}\n",
        "Hobby: {hobby}\"\"\")"
      ],
      "execution_count": null,
      "outputs": []
    }
  ]
}