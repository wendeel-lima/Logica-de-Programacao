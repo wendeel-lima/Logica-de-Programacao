{
  "nbformat": 4,
  "nbformat_minor": 0,
  "metadata": {
    "colab": {
      "name": "Untitled1.ipynb",
      "provenance": [],
      "authorship_tag": "ABX9TyNXA8YvqVlA6KgLRDRiORgS",
      "include_colab_link": true
    },
    "kernelspec": {
      "name": "python3",
      "display_name": "Python 3"
    },
    "language_info": {
      "name": "python"
    }
  },
  "cells": [
    {
      "cell_type": "markdown",
      "metadata": {
        "id": "view-in-github",
        "colab_type": "text"
      },
      "source": [
        "<a href=\"https://colab.research.google.com/github/wendeel-lima/Exercicios-Python/blob/main/Untitled1.ipynb\" target=\"_parent\"><img src=\"https://colab.research.google.com/assets/colab-badge.svg\" alt=\"Open In Colab\"/></a>"
      ]
    },
    {
      "cell_type": "code",
      "metadata": {
        "colab": {
          "base_uri": "https://localhost:8080/"
        },
        "id": "soxf8L1SDx7U",
        "outputId": "80769ed5-79ba-4b3c-c4d8-a620381c65a6"
      },
      "source": [
        "n = int(input(\"digite um numero: \"))\n",
        "\n",
        "if n % 2 == 0:\n",
        "  print(\"seu numero é par!!\")\n",
        "else:\n",
        "  print(\"Seu numero é Impar!!\")"
      ],
      "execution_count": 7,
      "outputs": [
        {
          "output_type": "stream",
          "text": [
            "digite um numero: 7\n",
            "Seu numero é Impar!!\n"
          ],
          "name": "stdout"
        }
      ]
    },
    {
      "cell_type": "code",
      "metadata": {
        "colab": {
          "base_uri": "https://localhost:8080/"
        },
        "id": "FLfBoydEFIC0",
        "outputId": "6069eb4e-f31d-4c3b-e5d9-552ae89bd53a"
      },
      "source": [
        "n = int(input(\"digite um numero: \"))\n",
        "\n",
        "if n == 0:\n",
        "  print(\"Numero neutro\")\n",
        "else:\n",
        "  if n < 0 :\n",
        "    print(\"seu numero é negativo!!\")\n",
        "  else:\n",
        "    print(\"Seu numero é positivo!!\")"
      ],
      "execution_count": 26,
      "outputs": [
        {
          "output_type": "stream",
          "text": [
            "digite um numero: -1\n",
            "seu numero é negativo!!\n"
          ],
          "name": "stdout"
        }
      ]
    },
    {
      "cell_type": "code",
      "metadata": {
        "id": "VbHKoiE3PAdz"
      },
      "source": [
        "n1 = int(input(\"digite um numero: \"))\n",
        "n2 = int(input(\"digite outro numero: \"))\n",
        "\n",
        "if n1 > n2:\n",
        "  print(f\"o numero maior é {n1}\")\n",
        "elif n1 < n2:\n",
        "  print(f\"o numero maior é {n2}\")\n",
        "else:\n",
        "  print(\"Numeros Iguais\")"
      ],
      "execution_count": null,
      "outputs": []
    },
    {
      "cell_type": "code",
      "metadata": {
        "colab": {
          "base_uri": "https://localhost:8080/"
        },
        "id": "NIKQv7EsQQrb",
        "outputId": "0883fcb5-7a15-4c11-c94c-11acdb7a9858"
      },
      "source": [
        "letra = input(\"Qual seu sexo biologico? [F/M]: \").strip().upper()[0]\n",
        "\n",
        "if letra == \"M\":\n",
        "  print(\"Masculino\")\n",
        "elif letra == \"F\":\n",
        "  print(\"Feminino\")\n",
        "else:\n",
        "  print(\"Sexo Biologico invalido\")\n"
      ],
      "execution_count": 46,
      "outputs": [
        {
          "output_type": "stream",
          "text": [
            "Qual seu sexo biologico? [F/M]: masculino\n",
            "Masculino\n"
          ],
          "name": "stdout"
        }
      ]
    }
  ]
}